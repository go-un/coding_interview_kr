{
 "cells": [
  {
   "cell_type": "markdown",
   "metadata": {},
   "source": [
    "# 트라이\n",
    "단어를 저장하고 조회 할 수 있는 자료구조.  \n",
    "\n",
    "시간 복잡도:   \n",
    "삽입: O(단어 길이)  \n",
    "조회: O(단어 길이)"
   ]
  },
  {
   "cell_type": "code",
   "execution_count": 1,
   "metadata": {},
   "outputs": [],
   "source": [
    "class Trie:\n",
    "    head = {}\n",
    "\n",
    "    def add(self, word):\n",
    "        cur = self.head\n",
    "        for ch in word:\n",
    "            if ch not in cur:\n",
    "                cur[ch] = {}\n",
    "            cur = cur[ch]\n",
    "        # *가 있을 경우, 그 단어가 자료구조에 저장되어 있음을 의미\n",
    "        # *가 없을 경우, 그 단어는 자료구조에 저장되어 있지 않음, 단지 더 긴 단어의 부분으로만 존재함\n",
    "        cur['*'] = True\n",
    "\n",
    "    def search(self, word):\n",
    "        cur = self.head\n",
    "        for ch in word:\n",
    "            if ch not in cur:\n",
    "                return False\n",
    "            cur = cur[ch]\n",
    "\n",
    "        if '*' in cur:\n",
    "            return True\n",
    "        else:\n",
    "            return False"
   ]
  },
  {
   "cell_type": "code",
   "execution_count": 2,
   "metadata": {},
   "outputs": [
    {
     "name": "stdout",
     "output_type": "stream",
     "text": [
      "True\n",
      "True\n",
      "False\n",
      "False\n"
     ]
    }
   ],
   "source": [
    "dictionary = Trie()\n",
    "\n",
    "dictionary.add(\"hi\")\n",
    "dictionary.add(\"hello\")\n",
    "print(dictionary.search(\"hi\"))\n",
    "print(dictionary.search(\"hello\"))\n",
    "print(dictionary.search(\"hel\"))\n",
    "print(dictionary.search(\"hey\"))"
   ]
  }
 ],
 "metadata": {
  "kernelspec": {
   "display_name": "Python 3",
   "language": "python",
   "name": "python3"
  },
  "language_info": {
   "codemirror_mode": {
    "name": "ipython",
    "version": 3
   },
   "file_extension": ".py",
   "mimetype": "text/x-python",
   "name": "python",
   "nbconvert_exporter": "python",
   "pygments_lexer": "ipython3",
   "version": "3.6.4"
  }
 },
 "nbformat": 4,
 "nbformat_minor": 2
}

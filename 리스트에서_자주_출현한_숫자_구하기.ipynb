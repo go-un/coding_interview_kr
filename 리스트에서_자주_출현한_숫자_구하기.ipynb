{
 "cells": [
  {
   "cell_type": "markdown",
   "metadata": {},
   "source": [
    "# 리스트에서 자주 출현한 숫자 구하기"
   ]
  },
  {
   "cell_type": "markdown",
   "metadata": {},
   "source": [
    "주사위를 굴려서 나온 숫자를 리스트에 순서대로 적은 값과 k를 입력받았을 때,    \n",
    "리스트에 자주 출현한 k개의 숫자를 리턴하는 코드를 작성해보세요.  \n",
    "예를들어, 주사위 던진 결과가 [3,2,3,1,2,5,3,6,2,4]이고, k가 2이면,  \n",
    "2가 세번, 3이 세번으로 자주 출현한 k (k=2)개의 숫자이므로 [2,3]을 출력합니다.\n",
    "\n",
    "만약, 출현 횟수가 같은 숫자가 k개 이상 있을 경우, 출현 횟수가 높은 숫자부터 리스트에  \n",
    "포함시킵니다.\n",
    "예를 들어, 주사위 던진 결과가 [1,1,1,2,2,3,3,4,4]이고, k가 3이면,  \n",
    "[1,2,3] 또는 [1,2,4]을 출력합니다."
   ]
  },
  {
   "cell_type": "code",
   "execution_count": 1,
   "metadata": {},
   "outputs": [],
   "source": [
    "def top_k_frequent_number(nums,k):\n",
    "    num_map = {1:0,2:0,3:0,4:0,5:0,6:0}\n",
    "\n",
    "    for num in nums:\n",
    "        num_map[num] += 1\n",
    "\n",
    "    ret = []\n",
    "    while k > 0:\n",
    "        max_freq = 0\n",
    "        max_key = 0\n",
    "        for key in num_map:\n",
    "            if num_map[key] > max_freq:\n",
    "                max_freq = num_map[key]\n",
    "                max_key = key\n",
    "        ret.append(max_key)\n",
    "        del num_map[max_key]\n",
    "        k -= 1\n",
    "    return ret"
   ]
  },
  {
   "cell_type": "code",
   "execution_count": 2,
   "metadata": {},
   "outputs": [
    {
     "name": "stdout",
     "output_type": "stream",
     "text": [
      "[2, 3]\n"
     ]
    }
   ],
   "source": [
    "print(top_k_frequent_number([3,2,3,1,2,5,3,6,2,4],2))"
   ]
  },
  {
   "cell_type": "code",
   "execution_count": 3,
   "metadata": {},
   "outputs": [
    {
     "name": "stdout",
     "output_type": "stream",
     "text": [
      "[1, 2, 3]\n"
     ]
    }
   ],
   "source": [
    "print(top_k_frequent_number([1,1,1,2,2,3,3,4,4],3))"
   ]
  },
  {
   "cell_type": "markdown",
   "metadata": {},
   "source": [
    "# 시간 복잡도:  O(n + 6k)  = O(n)\n",
    "O(n) : 딕셔너리 생성  \n",
    "O(6k): 딕셔너리에서 가장 큰 value를 찾는 과정에서 걸리는 시간"
   ]
  },
  {
   "cell_type": "markdown",
   "metadata": {},
   "source": [
    "# 공간 복잡도:  O(6+k+2)\n",
    "딕셔너리에 6개의 숫자에 대한 값을 저장하고, k개의 숫자만큼 리턴값에 저장하고,  \n",
    "from max_freq, max_key라는 단일 변수들을 사용합니다. "
   ]
  },
  {
   "cell_type": "code",
   "execution_count": null,
   "metadata": {},
   "outputs": [],
   "source": []
  }
 ],
 "metadata": {
  "kernelspec": {
   "display_name": "Python 3",
   "language": "python",
   "name": "python3"
  },
  "language_info": {
   "codemirror_mode": {
    "name": "ipython",
    "version": 3
   },
   "file_extension": ".py",
   "mimetype": "text/x-python",
   "name": "python",
   "nbconvert_exporter": "python",
   "pygments_lexer": "ipython3",
   "version": "3.6.4"
  }
 },
 "nbformat": 4,
 "nbformat_minor": 2
}
